{
 "cells": [
  {
   "cell_type": "code",
   "execution_count": 1,
   "metadata": {},
   "outputs": [
    {
     "name": "stderr",
     "output_type": "stream",
     "text": [
      "Using TensorFlow backend.\n"
     ]
    },
    {
     "name": "stdout",
     "output_type": "stream",
     "text": [
      "Loading Data...\n",
      "25000 train sequences\n",
      "25000 test sequences\n"
     ]
    }
   ],
   "source": [
    "#load data\n",
    "from keras.datasets import imdb\n",
    "\n",
    "max_features=10000\n",
    "\n",
    "print('Loading Data...')\n",
    "(train_data, train_labels),(test_data, test_labels)=imdb.load_data(num_words=max_features)\n",
    "print(len(train_data),'train sequences')\n",
    "print(len(test_data),'test sequences')"
   ]
  },
  {
   "cell_type": "code",
   "execution_count": 2,
   "metadata": {},
   "outputs": [
    {
     "data": {
      "text/plain": [
       "9999"
      ]
     },
     "execution_count": 2,
     "metadata": {},
     "output_type": "execute_result"
    }
   ],
   "source": [
    "#check the maximum word index <=10000\n",
    "max([max(sequence) for sequence in train_data])"
   ]
  },
  {
   "cell_type": "code",
   "execution_count": 3,
   "metadata": {},
   "outputs": [
    {
     "name": "stdout",
     "output_type": "stream",
     "text": [
      "Pad sequence (samples x time)\n",
      "input_train shape: (25000, 500)\n",
      "input_test shape: (25000, 500)\n"
     ]
    }
   ],
   "source": [
    "#pad sequence to equal size (cut off after 500 length)\n",
    "from keras.preprocessing import sequence\n",
    "\n",
    "maxlen=500\n",
    "\n",
    "print ('Pad sequence (samples x time)')\n",
    "x_train=sequence.pad_sequences(train_data,maxlen=maxlen)\n",
    "x_test=sequence.pad_sequences(test_data,maxlen=maxlen)\n",
    "print('input_train shape:',x_train.shape)\n",
    "print('input_test shape:',x_test.shape)"
   ]
  },
  {
   "cell_type": "code",
   "execution_count": 4,
   "metadata": {},
   "outputs": [],
   "source": [
    "y_train = train_labels\n",
    "y_test = test_labels"
   ]
  },
  {
   "cell_type": "code",
   "execution_count": 5,
   "metadata": {},
   "outputs": [
    {
     "name": "stdout",
     "output_type": "stream",
     "text": [
      "Model: \"sequential_1\"\n",
      "_________________________________________________________________\n",
      "Layer (type)                 Output Shape              Param #   \n",
      "=================================================================\n",
      "embedding_1 (Embedding)      (None, 500, 128)          1280000   \n",
      "_________________________________________________________________\n",
      "simple_rnn_1 (SimpleRNN)     (None, 32)                5152      \n",
      "_________________________________________________________________\n",
      "dense_1 (Dense)              (None, 1)                 33        \n",
      "=================================================================\n",
      "Total params: 1,285,185\n",
      "Trainable params: 1,285,185\n",
      "Non-trainable params: 0\n",
      "_________________________________________________________________\n"
     ]
    }
   ],
   "source": [
    "#simpleRNN architeceture\n",
    "from keras.layers import Dense,Embedding,SimpleRNN\n",
    "from keras.models import Sequential\n",
    "\n",
    "model_rnn=Sequential()\n",
    "model_rnn.add(Embedding(max_features,128,input_length=maxlen))\n",
    "model_rnn.add(SimpleRNN(32))\n",
    "model_rnn.add(Dense(1,activation='sigmoid'))\n",
    "\n",
    "model_rnn.compile(loss='binary_crossentropy',optimizer='adam',metrics=['acc'])\n",
    "model_rnn.summary()"
   ]
  },
  {
   "cell_type": "code",
   "execution_count": 6,
   "metadata": {
    "scrolled": false
   },
   "outputs": [
    {
     "name": "stderr",
     "output_type": "stream",
     "text": [
      "F:\\Pro_base\\Anaconda\\lib\\site-packages\\tensorflow\\python\\framework\\indexed_slices.py:434: UserWarning: Converting sparse IndexedSlices to a dense Tensor of unknown shape. This may consume a large amount of memory.\n",
      "  \"Converting sparse IndexedSlices to a dense Tensor of unknown shape. \"\n"
     ]
    },
    {
     "name": "stdout",
     "output_type": "stream",
     "text": [
      "Train on 20000 samples, validate on 5000 samples\n",
      "Epoch 1/20\n",
      "20000/20000 [==============================] - 47s 2ms/step - loss: 0.6390 - acc: 0.6306 - val_loss: 0.4966 - val_acc: 0.7690\n",
      "Epoch 2/20\n",
      "20000/20000 [==============================] - 47s 2ms/step - loss: 0.3652 - acc: 0.8450 - val_loss: 0.4264 - val_acc: 0.8076\n",
      "Epoch 3/20\n",
      "20000/20000 [==============================] - 49s 2ms/step - loss: 0.2145 - acc: 0.9201 - val_loss: 0.3645 - val_acc: 0.8496\n",
      "Epoch 4/20\n",
      "20000/20000 [==============================] - 48s 2ms/step - loss: 0.1108 - acc: 0.9655 - val_loss: 0.4371 - val_acc: 0.8300\n",
      "Epoch 5/20\n",
      "20000/20000 [==============================] - 49s 2ms/step - loss: 0.0465 - acc: 0.9894 - val_loss: 0.5285 - val_acc: 0.8060\n",
      "Epoch 6/20\n",
      "20000/20000 [==============================] - 49s 2ms/step - loss: 0.0237 - acc: 0.9958 - val_loss: 0.5657 - val_acc: 0.8292\n",
      "Epoch 7/20\n",
      "20000/20000 [==============================] - 49s 2ms/step - loss: 0.0155 - acc: 0.9976 - val_loss: 0.5685 - val_acc: 0.8314\n",
      "Epoch 8/20\n",
      "20000/20000 [==============================] - 48s 2ms/step - loss: 0.0053 - acc: 0.9997 - val_loss: 0.6061 - val_acc: 0.8370\n",
      "Epoch 9/20\n",
      "20000/20000 [==============================] - 50s 2ms/step - loss: 0.0028 - acc: 0.9999 - val_loss: 0.6330 - val_acc: 0.8348\n",
      "Epoch 10/20\n",
      "20000/20000 [==============================] - 52s 3ms/step - loss: 0.0844 - acc: 0.9657 - val_loss: 0.8455 - val_acc: 0.7022\n",
      "Epoch 11/20\n",
      "20000/20000 [==============================] - 53s 3ms/step - loss: 0.0835 - acc: 0.9700 - val_loss: 0.6618 - val_acc: 0.7918\n",
      "Epoch 12/20\n",
      "20000/20000 [==============================] - 57s 3ms/step - loss: 0.0176 - acc: 0.9964 - val_loss: 0.7350 - val_acc: 0.7818\n",
      "Epoch 13/20\n",
      "20000/20000 [==============================] - 55s 3ms/step - loss: 0.0052 - acc: 0.9996 - val_loss: 0.7401 - val_acc: 0.7968\n",
      "Epoch 14/20\n",
      "20000/20000 [==============================] - 55s 3ms/step - loss: 0.0084 - acc: 0.9983 - val_loss: 0.7324 - val_acc: 0.8104\n",
      "Epoch 15/20\n",
      "20000/20000 [==============================] - 54s 3ms/step - loss: 0.0043 - acc: 0.9995 - val_loss: 0.8351 - val_acc: 0.7846\n",
      "Epoch 16/20\n",
      "20000/20000 [==============================] - 50s 2ms/step - loss: 0.0015 - acc: 1.0000 - val_loss: 0.8243 - val_acc: 0.7940\n",
      "Epoch 17/20\n",
      "20000/20000 [==============================] - 49s 2ms/step - loss: 8.6701e-04 - acc: 1.0000 - val_loss: 0.8249 - val_acc: 0.8064\n",
      "Epoch 18/20\n",
      "20000/20000 [==============================] - 48s 2ms/step - loss: 6.3237e-04 - acc: 1.0000 - val_loss: 0.8371 - val_acc: 0.8098\n",
      "Epoch 19/20\n",
      "20000/20000 [==============================] - 46s 2ms/step - loss: 5.0469e-04 - acc: 1.0000 - val_loss: 0.8510 - val_acc: 0.8070\n",
      "Epoch 20/20\n",
      "20000/20000 [==============================] - 47s 2ms/step - loss: 4.1416e-04 - acc: 1.0000 - val_loss: 0.8617 - val_acc: 0.8098\n"
     ]
    }
   ],
   "source": [
    "#simpleRNN fit\n",
    "history_rnn=model_rnn.fit(x_train,y_train,\n",
    "                 epochs=20,\n",
    "                 batch_size=128,\n",
    "                 validation_split=0.2)"
   ]
  },
  {
   "cell_type": "code",
   "execution_count": 7,
   "metadata": {},
   "outputs": [
    {
     "data": {
      "text/plain": [
       "dict_keys(['val_loss', 'val_acc', 'loss', 'acc'])"
      ]
     },
     "execution_count": 7,
     "metadata": {},
     "output_type": "execute_result"
    }
   ],
   "source": [
    "#check the results of model fitting\n",
    "history_dict=history_rnn.history\n",
    "history_dict.keys()"
   ]
  },
  {
   "cell_type": "code",
   "execution_count": 8,
   "metadata": {
    "scrolled": true
   },
   "outputs": [
    {
     "data": {
      "image/png": "[encoded data removed]",
      "text/plain": [
       "<Figure size 432x288 with 1 Axes>"
      ]
     },
     "metadata": {
      "needs_background": "light"
     },
     "output_type": "display_data"
    }
   ],
   "source": [
    "#plot training and test loss\n",
    "import matplotlib.pyplot as plt\n",
    "\n",
    "loss_values=history_dict['loss']\n",
    "val_loss_values=history_dict['val_loss']\n",
    "\n",
    "epochs=range(1,len(loss_values)+1)\n",
    "\n",
    "plt.plot(epochs,loss_values,'bo',label='Training loss')\n",
    "plt.plot(epochs,val_loss_values,'b',label='Validation loss')\n",
    "plt.title('Training and validation loss')\n",
    "plt.xlabel('Epochs')\n",
    "plt.ylabel('Loss')\n",
    "plt.legend()\n",
    "\n",
    "plt.show()"
   ]
  },
  {
   "cell_type": "code",
   "execution_count": 9,
   "metadata": {
    "scrolled": true
   },
   "outputs": [
    {
     "data": {
      "image/png": "[encoded data removed]",
      "text/plain": [
       "<Figure size 432x288 with 1 Axes>"
      ]
     },
     "metadata": {
      "needs_background": "light"
     },
     "output_type": "display_data"
    }
   ],
   "source": [
    "#plot train and validation accuracy\n",
    "plt.clf()\n",
    "acc=history_dict['acc']\n",
    "val_acc=history_dict['val_acc']\n",
    "\n",
    "plt.plot(epochs,acc,'bo',label='Training acc')\n",
    "plt.plot(epochs,val_acc,'b',label='Validation acc')\n",
    "plt.title('Training and validation accuracy')\n",
    "plt.xlabel('Epochs')\n",
    "plt.ylabel('Accuracy')\n",
    "plt.legend()\n",
    "\n",
    "plt.show()"
   ]
  },
  {
   "cell_type": "code",
   "execution_count": 10,
   "metadata": {
    "scrolled": true
   },
   "outputs": [
    {
     "data": {
      "text/plain": [
       "array([[0.9828361 ],\n",
       "       [0.99989307],\n",
       "       [0.484652  ],\n",
       "       ...,\n",
       "       [0.00397086],\n",
       "       [0.9691417 ],\n",
       "       [0.9962096 ]], dtype=float32)"
      ]
     },
     "execution_count": 10,
     "metadata": {},
     "output_type": "execute_result"
    }
   ],
   "source": [
    "#prediction on test set\n",
    "prediction_test=model_rnn.predict(x_test)\n",
    "prediction_test"
   ]
  },
  {
   "cell_type": "code",
   "execution_count": 11,
   "metadata": {},
   "outputs": [
    {
     "name": "stdout",
     "output_type": "stream",
     "text": [
      "25000/25000 [==============================] - 31s 1ms/step\n"
     ]
    },
    {
     "data": {
      "text/plain": [
       "[0.862665967206955, 0.813759982585907]"
      ]
     },
     "execution_count": 11,
     "metadata": {},
     "output_type": "execute_result"
    }
   ],
   "source": [
    "#evaluate model on test set\n",
    "results=model_rnn.evaluate(x_test,y_test)\n",
    "results"
   ]
  },
  {
   "cell_type": "code",
   "execution_count": 12,
   "metadata": {
    "scrolled": false
   },
   "outputs": [
    {
     "name": "stdout",
     "output_type": "stream",
     "text": [
      "Epoch 1/5\n",
      "25000/25000 [==============================] - 54s 2ms/step - loss: 0.2593 - acc: 0.9098\n",
      "Epoch 2/5\n",
      "25000/25000 [==============================] - 55s 2ms/step - loss: 0.0819 - acc: 0.9733\n",
      "Epoch 3/5\n",
      "25000/25000 [==============================] - 54s 2ms/step - loss: 0.0220 - acc: 0.9947\n",
      "Epoch 4/5\n",
      "25000/25000 [==============================] - 59s 2ms/step - loss: 0.0066 - acc: 0.9992\n",
      "Epoch 5/5\n",
      "25000/25000 [==============================] - 57s 2ms/step - loss: 0.0024 - acc: 0.9999\n"
     ]
    }
   ],
   "source": [
    "#simpleRNN fit after tuning\n",
    "history_rnn_tune=model_rnn.fit(x_train,y_train,\n",
    "                 epochs=5,\n",
    "                 batch_size=128)"
   ]
  },
  {
   "cell_type": "code",
   "execution_count": 13,
   "metadata": {
    "scrolled": true
   },
   "outputs": [
    {
     "data": {
      "text/plain": [
       "array([[0.99446446],\n",
       "       [0.99966466],\n",
       "       [0.1389587 ],\n",
       "       ...,\n",
       "       [0.22017577],\n",
       "       [0.13451743],\n",
       "       [0.77437353]], dtype=float32)"
      ]
     },
     "execution_count": 13,
     "metadata": {},
     "output_type": "execute_result"
    }
   ],
   "source": [
    "#prediction on test set\n",
    "prediction_test_tune=model_rnn.predict(x_test)\n",
    "prediction_test_tune"
   ]
  },
  {
   "cell_type": "code",
   "execution_count": 14,
   "metadata": {},
   "outputs": [
    {
     "name": "stdout",
     "output_type": "stream",
     "text": [
      "25000/25000 [==============================] - 30s 1ms/step\n"
     ]
    },
    {
     "data": {
      "text/plain": [
       "[0.7903892033958435, 0.8043599724769592]"
      ]
     },
     "execution_count": 14,
     "metadata": {},
     "output_type": "execute_result"
    }
   ],
   "source": [
    "#evaluate model on test set\n",
    "results_tune=model_rnn.evaluate(x_test,y_test)\n",
    "results_tune"
   ]
  },
  {
   "cell_type": "code",
   "execution_count": null,
   "metadata": {},
   "outputs": [],
   "source": []
  },
  {
   "cell_type": "code",
   "execution_count": null,
   "metadata": {},
   "outputs": [],
   "source": []
  },
  {
   "cell_type": "code",
   "execution_count": null,
   "metadata": {},
   "outputs": [],
   "source": []
  },
  {
   "cell_type": "code",
   "execution_count": 15,
   "metadata": {
    "scrolled": true
   },
   "outputs": [
    {
     "name": "stdout",
     "output_type": "stream",
     "text": [
      "Model: \"sequential_2\"\n",
      "_________________________________________________________________\n",
      "Layer (type)                 Output Shape              Param #   \n",
      "=================================================================\n",
      "embedding_2 (Embedding)      (None, 500, 128)          1280000   \n",
      "_________________________________________________________________\n",
      "lstm_1 (LSTM)                (None, 32)                20608     \n",
      "_________________________________________________________________\n",
      "dense_2 (Dense)              (None, 1)                 33        \n",
      "=================================================================\n",
      "Total params: 1,300,641\n",
      "Trainable params: 1,300,641\n",
      "Non-trainable params: 0\n",
      "_________________________________________________________________\n"
     ]
    }
   ],
   "source": [
    "#LSTM archetecture without dropout\n",
    "from keras.models import Sequential\n",
    "from keras.layers import Dense,Embedding,LSTM\n",
    "\n",
    "model_lstm=Sequential()\n",
    "model_lstm.add(Embedding(max_features,128,input_length=maxlen))\n",
    "model_lstm.add(LSTM(32))\n",
    "model_lstm.add(Dense(1,activation='sigmoid'))\n",
    "model_lstm.compile(loss='binary_crossentropy',optimizer='adam',metrics=['acc'])\n",
    "model_lstm.summary()"
   ]
  },
  {
   "cell_type": "code",
   "execution_count": 16,
   "metadata": {},
   "outputs": [
    {
     "name": "stderr",
     "output_type": "stream",
     "text": [
      "F:\\Pro_base\\Anaconda\\lib\\site-packages\\tensorflow\\python\\framework\\indexed_slices.py:434: UserWarning: Converting sparse IndexedSlices to a dense Tensor of unknown shape. This may consume a large amount of memory.\n",
      "  \"Converting sparse IndexedSlices to a dense Tensor of unknown shape. \"\n"
     ]
    },
    {
     "name": "stdout",
     "output_type": "stream",
     "text": [
      "Train on 20000 samples, validate on 5000 samples\n",
      "Epoch 1/20\n",
      "20000/20000 [==============================] - 102s 5ms/step - loss: 0.5136 - acc: 0.7505 - val_loss: 0.3707 - val_acc: 0.8418\n",
      "Epoch 2/20\n",
      "20000/20000 [==============================] - 101s 5ms/step - loss: 0.3355 - acc: 0.8598 - val_loss: 0.4358 - val_acc: 0.7970\n",
      "Epoch 3/20\n",
      "20000/20000 [==============================] - 102s 5ms/step - loss: 0.2327 - acc: 0.9103 - val_loss: 0.3221 - val_acc: 0.8684\n",
      "Epoch 4/20\n",
      "20000/20000 [==============================] - 104s 5ms/step - loss: 0.1604 - acc: 0.9434 - val_loss: 0.3435 - val_acc: 0.8654\n",
      "Epoch 5/20\n",
      "20000/20000 [==============================] - 105s 5ms/step - loss: 0.1133 - acc: 0.9635 - val_loss: 0.3779 - val_acc: 0.8674\n",
      "Epoch 6/20\n",
      "20000/20000 [==============================] - 107s 5ms/step - loss: 0.0920 - acc: 0.9697 - val_loss: 0.4245 - val_acc: 0.8512\n",
      "Epoch 7/20\n",
      "20000/20000 [==============================] - 107s 5ms/step - loss: 0.0919 - acc: 0.9704 - val_loss: 0.4276 - val_acc: 0.8642\n",
      "Epoch 8/20\n",
      "20000/20000 [==============================] - 111s 6ms/step - loss: 0.0755 - acc: 0.9761 - val_loss: 0.5034 - val_acc: 0.8680\n",
      "Epoch 9/20\n",
      "20000/20000 [==============================] - 107s 5ms/step - loss: 0.0792 - acc: 0.9744 - val_loss: 0.5885 - val_acc: 0.8518\n",
      "Epoch 10/20\n",
      "20000/20000 [==============================] - 113s 6ms/step - loss: 0.0991 - acc: 0.9653 - val_loss: 0.4985 - val_acc: 0.8080\n",
      "Epoch 11/20\n",
      "20000/20000 [==============================] - 102s 5ms/step - loss: 0.0720 - acc: 0.9762 - val_loss: 0.5144 - val_acc: 0.8612\n",
      "Epoch 12/20\n",
      "20000/20000 [==============================] - 106s 5ms/step - loss: 0.0378 - acc: 0.9892 - val_loss: 0.5669 - val_acc: 0.8542\n",
      "Epoch 13/20\n",
      "20000/20000 [==============================] - 111s 6ms/step - loss: 0.0802 - acc: 0.9707 - val_loss: 0.5261 - val_acc: 0.8556\n",
      "Epoch 14/20\n",
      "20000/20000 [==============================] - 117s 6ms/step - loss: 0.0456 - acc: 0.9870 - val_loss: 0.6395 - val_acc: 0.8636\n",
      "Epoch 15/20\n",
      "20000/20000 [==============================] - 103s 5ms/step - loss: 0.0261 - acc: 0.9933 - val_loss: 0.6580 - val_acc: 0.8600\n",
      "Epoch 16/20\n",
      "20000/20000 [==============================] - 114s 6ms/step - loss: 0.0317 - acc: 0.9912 - val_loss: 0.6406 - val_acc: 0.8630\n",
      "Epoch 17/20\n",
      "20000/20000 [==============================] - 98s 5ms/step - loss: 0.0911 - acc: 0.9657 - val_loss: 0.5396 - val_acc: 0.7638\n",
      "Epoch 18/20\n",
      "20000/20000 [==============================] - 105s 5ms/step - loss: 0.0713 - acc: 0.9766 - val_loss: 0.6078 - val_acc: 0.8598\n",
      "Epoch 19/20\n",
      "20000/20000 [==============================] - 112s 6ms/step - loss: 0.0237 - acc: 0.9937 - val_loss: 0.6265 - val_acc: 0.8530\n",
      "Epoch 20/20\n",
      "20000/20000 [==============================] - 117s 6ms/step - loss: 0.0242 - acc: 0.9934 - val_loss: 0.6465 - val_acc: 0.8496\n"
     ]
    }
   ],
   "source": [
    "#LSTM model fit\n",
    "history_lstm=model_lstm.fit(x_train,y_train,\n",
    "                            batch_size=128,\n",
    "                            epochs=20,\n",
    "                            validation_split=0.2)"
   ]
  },
  {
   "cell_type": "code",
   "execution_count": 17,
   "metadata": {},
   "outputs": [
    {
     "data": {
      "text/plain": [
       "dict_keys(['val_loss', 'val_acc', 'loss', 'acc'])"
      ]
     },
     "execution_count": 17,
     "metadata": {},
     "output_type": "execute_result"
    }
   ],
   "source": [
    "#check the results of model fitting\n",
    "history_dict=history_lstm.history\n",
    "history_dict.keys()"
   ]
  },
  {
   "cell_type": "code",
   "execution_count": 18,
   "metadata": {},
   "outputs": [
    {
     "data": {
      "image/png": "[encoded data removed]",
      "text/plain": [
       "<Figure size 432x288 with 1 Axes>"
      ]
     },
     "metadata": {
      "needs_background": "light"
     },
     "output_type": "display_data"
    }
   ],
   "source": [
    "#plot training and test loss\n",
    "import matplotlib.pyplot as plt\n",
    "\n",
    "loss_values=history_dict['loss']\n",
    "val_loss_values=history_dict['val_loss']\n",
    "\n",
    "epochs=range(1,len(loss_values)+1)\n",
    "\n",
    "plt.plot(epochs,loss_values,'bo',label='Training loss')\n",
    "plt.plot(epochs,val_loss_values,'b',label='Validation loss')\n",
    "plt.title('Training and validation loss')\n",
    "plt.xlabel('Epochs')\n",
    "plt.ylabel('Loss')\n",
    "plt.legend()\n",
    "\n",
    "plt.show()"
   ]
  },
  {
   "cell_type": "code",
   "execution_count": 19,
   "metadata": {
    "scrolled": true
   },
   "outputs": [
    {
     "data": {
      "image/png": "[encoded data removed]",
      "text/plain": [
       "<Figure size 432x288 with 1 Axes>"
      ]
     },
     "metadata": {
      "needs_background": "light"
     },
     "output_type": "display_data"
    }
   ],
   "source": [
    "#plot train and validation accuracy\n",
    "plt.clf()\n",
    "acc=history_dict['acc']\n",
    "val_acc=history_dict['val_acc']\n",
    "\n",
    "plt.plot(epochs,acc,'bo',label='Training acc')\n",
    "plt.plot(epochs,val_acc,'b',label='Validation acc')\n",
    "plt.title('Training and validation accuracy')\n",
    "plt.xlabel('Epochs')\n",
    "plt.ylabel('Accuracy')\n",
    "plt.legend()\n",
    "\n",
    "plt.show()"
   ]
  },
  {
   "cell_type": "code",
   "execution_count": 20,
   "metadata": {
    "scrolled": true
   },
   "outputs": [
    {
     "data": {
      "text/plain": [
       "array([[1.0350049e-03],\n",
       "       [9.9999499e-01],\n",
       "       [9.7424209e-01],\n",
       "       ...,\n",
       "       [8.3310835e-05],\n",
       "       [6.8289965e-02],\n",
       "       [4.0686774e-01]], dtype=float32)"
      ]
     },
     "execution_count": 20,
     "metadata": {},
     "output_type": "execute_result"
    }
   ],
   "source": [
    "#prediction on test set\n",
    "prediction_test=model_lstm.predict(x_test)\n",
    "prediction_test"
   ]
  },
  {
   "cell_type": "code",
   "execution_count": 21,
   "metadata": {
    "scrolled": true
   },
   "outputs": [
    {
     "name": "stdout",
     "output_type": "stream",
     "text": [
      "25000/25000 [==============================] - 65s 3ms/step\n"
     ]
    },
    {
     "data": {
      "text/plain": [
       "[0.6779569334459304, 0.8418400287628174]"
      ]
     },
     "execution_count": 21,
     "metadata": {},
     "output_type": "execute_result"
    }
   ],
   "source": [
    "#evaluate model on test set\n",
    "results=model_lstm.evaluate(x_test,y_test)\n",
    "results"
   ]
  },
  {
   "cell_type": "code",
   "execution_count": null,
   "metadata": {},
   "outputs": [],
   "source": []
  },
  {
   "cell_type": "code",
   "execution_count": null,
   "metadata": {},
   "outputs": [],
   "source": []
  },
  {
   "cell_type": "code",
   "execution_count": 22,
   "metadata": {
    "scrolled": true
   },
   "outputs": [
    {
     "name": "stdout",
     "output_type": "stream",
     "text": [
      "Model: \"sequential_3\"\n",
      "_________________________________________________________________\n",
      "Layer (type)                 Output Shape              Param #   \n",
      "=================================================================\n",
      "embedding_3 (Embedding)      (None, 500, 128)          1280000   \n",
      "_________________________________________________________________\n",
      "lstm_2 (LSTM)                (None, 32)                20608     \n",
      "_________________________________________________________________\n",
      "dense_3 (Dense)              (None, 1)                 33        \n",
      "=================================================================\n",
      "Total params: 1,300,641\n",
      "Trainable params: 1,300,641\n",
      "Non-trainable params: 0\n",
      "_________________________________________________________________\n"
     ]
    }
   ],
   "source": [
    "#LSTM archetecture\n",
    "from keras.models import Sequential\n",
    "from keras.layers import Dense,Embedding,LSTM\n",
    "\n",
    "model_lstm_1=Sequential()\n",
    "model_lstm_1.add(Embedding(max_features,128,input_length=maxlen))\n",
    "model_lstm_1.add(LSTM(32,dropout=0.2))\n",
    "model_lstm_1.add(Dense(1,activation='sigmoid'))\n",
    "model_lstm_1.compile(loss='binary_crossentropy',optimizer='adam',metrics=['acc'])\n",
    "model_lstm_1.summary()"
   ]
  },
  {
   "cell_type": "code",
   "execution_count": 23,
   "metadata": {
    "scrolled": false
   },
   "outputs": [
    {
     "name": "stderr",
     "output_type": "stream",
     "text": [
      "F:\\Pro_base\\Anaconda\\lib\\site-packages\\tensorflow\\python\\framework\\indexed_slices.py:434: UserWarning: Converting sparse IndexedSlices to a dense Tensor of unknown shape. This may consume a large amount of memory.\n",
      "  \"Converting sparse IndexedSlices to a dense Tensor of unknown shape. \"\n"
     ]
    },
    {
     "name": "stdout",
     "output_type": "stream",
     "text": [
      "Train on 20000 samples, validate on 5000 samples\n",
      "Epoch 1/20\n",
      "20000/20000 [==============================] - 99s 5ms/step - loss: 0.4674 - acc: 0.7729 - val_loss: 0.3161 - val_acc: 0.8694\n",
      "Epoch 2/20\n",
      "20000/20000 [==============================] - 100s 5ms/step - loss: 0.2506 - acc: 0.9022 - val_loss: 0.3004 - val_acc: 0.8790\n",
      "Epoch 3/20\n",
      "20000/20000 [==============================] - 109s 5ms/step - loss: 0.1681 - acc: 0.9406 - val_loss: 0.3365 - val_acc: 0.8686\n",
      "Epoch 4/20\n",
      "20000/20000 [==============================] - 120s 6ms/step - loss: 0.1307 - acc: 0.9552 - val_loss: 0.3692 - val_acc: 0.8744\n",
      "Epoch 5/20\n",
      "20000/20000 [==============================] - 119s 6ms/step - loss: 0.0983 - acc: 0.9675 - val_loss: 0.3637 - val_acc: 0.8770\n",
      "Epoch 6/20\n",
      "20000/20000 [==============================] - 121s 6ms/step - loss: 0.0705 - acc: 0.9785 - val_loss: 0.4230 - val_acc: 0.8734\n",
      "Epoch 7/20\n",
      "20000/20000 [==============================] - 115s 6ms/step - loss: 0.1253 - acc: 0.9545 - val_loss: 0.4442 - val_acc: 0.8584\n",
      "Epoch 8/20\n",
      "20000/20000 [==============================] - 114s 6ms/step - loss: 0.0704 - acc: 0.9762 - val_loss: 0.4557 - val_acc: 0.8724\n",
      "Epoch 9/20\n",
      "20000/20000 [==============================] - 120s 6ms/step - loss: 0.0480 - acc: 0.9841 - val_loss: 0.4599 - val_acc: 0.8654\n",
      "Epoch 10/20\n",
      "20000/20000 [==============================] - 120s 6ms/step - loss: 0.0377 - acc: 0.9901 - val_loss: 0.5508 - val_acc: 0.8704\n",
      "Epoch 11/20\n",
      "20000/20000 [==============================] - 140s 7ms/step - loss: 0.0380 - acc: 0.9888 - val_loss: 0.5462 - val_acc: 0.8670\n",
      "Epoch 12/20\n",
      "20000/20000 [==============================] - 133s 7ms/step - loss: 0.0388 - acc: 0.9874 - val_loss: 0.5787 - val_acc: 0.8616\n",
      "Epoch 13/20\n",
      "20000/20000 [==============================] - 138s 7ms/step - loss: 0.0360 - acc: 0.9897 - val_loss: 0.5338 - val_acc: 0.8444\n",
      "Epoch 14/20\n",
      "20000/20000 [==============================] - 147s 7ms/step - loss: 0.0268 - acc: 0.9930 - val_loss: 0.6224 - val_acc: 0.8488\n",
      "Epoch 15/20\n",
      "20000/20000 [==============================] - 146s 7ms/step - loss: 0.1574 - acc: 0.9368 - val_loss: 0.4818 - val_acc: 0.7906\n",
      "Epoch 16/20\n",
      "20000/20000 [==============================] - 144s 7ms/step - loss: 0.0601 - acc: 0.9787 - val_loss: 0.5588 - val_acc: 0.8694\n",
      "Epoch 17/20\n",
      "20000/20000 [==============================] - 137s 7ms/step - loss: 0.0239 - acc: 0.9941 - val_loss: 0.7353 - val_acc: 0.8538\n",
      "Epoch 18/20\n",
      "20000/20000 [==============================] - 140s 7ms/step - loss: 0.0199 - acc: 0.9951 - val_loss: 0.5976 - val_acc: 0.8614\n",
      "Epoch 19/20\n",
      "20000/20000 [==============================] - 139s 7ms/step - loss: 0.0108 - acc: 0.9976 - val_loss: 0.6861 - val_acc: 0.8640\n",
      "Epoch 20/20\n",
      "20000/20000 [==============================] - 132s 7ms/step - loss: 0.0231 - acc: 0.9932 - val_loss: 0.7062 - val_acc: 0.8626\n"
     ]
    }
   ],
   "source": [
    "#LSTM model fit\n",
    "history_lstm_1=model_lstm_1.fit(x_train,y_train,\n",
    "                            batch_size=128,\n",
    "                            epochs=20,\n",
    "                            validation_split=0.2)"
   ]
  },
  {
   "cell_type": "code",
   "execution_count": 24,
   "metadata": {},
   "outputs": [
    {
     "data": {
      "text/plain": [
       "dict_keys(['val_loss', 'val_acc', 'loss', 'acc'])"
      ]
     },
     "execution_count": 24,
     "metadata": {},
     "output_type": "execute_result"
    }
   ],
   "source": [
    "#check the results of model fitting\n",
    "history_dict=history_lstm_1.history\n",
    "history_dict.keys()"
   ]
  },
  {
   "cell_type": "code",
   "execution_count": 25,
   "metadata": {},
   "outputs": [
    {
     "data": {
      "image/png": "[encoded data removed]",
      "text/plain": [
       "<Figure size 432x288 with 1 Axes>"
      ]
     },
     "metadata": {
      "needs_background": "light"
     },
     "output_type": "display_data"
    }
   ],
   "source": [
    "#plot training and test loss\n",
    "import matplotlib.pyplot as plt\n",
    "\n",
    "loss_values=history_dict['loss']\n",
    "val_loss_values=history_dict['val_loss']\n",
    "\n",
    "epochs=range(1,len(loss_values)+1)\n",
    "\n",
    "plt.plot(epochs,loss_values,'bo',label='Training loss')\n",
    "plt.plot(epochs,val_loss_values,'b',label='Validation loss')\n",
    "plt.title('Training and validation loss')\n",
    "plt.xlabel('Epochs')\n",
    "plt.ylabel('Loss')\n",
    "plt.legend()\n",
    "\n",
    "plt.show()"
   ]
  },
  {
   "cell_type": "code",
   "execution_count": 26,
   "metadata": {
    "scrolled": false
   },
   "outputs": [
    {
     "data": {
      "image/png": "[encoded data removed]",
      "text/plain": [
       "<Figure size 432x288 with 1 Axes>"
      ]
     },
     "metadata": {
      "needs_background": "light"
     },
     "output_type": "display_data"
    }
   ],
   "source": [
    "#plot train and validation accuracy\n",
    "plt.clf()\n",
    "acc=history_dict['acc']\n",
    "val_acc=history_dict['val_acc']\n",
    "\n",
    "plt.plot(epochs,acc,'bo',label='Training acc')\n",
    "plt.plot(epochs,val_acc,'b',label='Validation acc')\n",
    "plt.title('Training and validation accuracy')\n",
    "plt.xlabel('Epochs')\n",
    "plt.ylabel('Accuracy')\n",
    "plt.legend()\n",
    "\n",
    "plt.show()"
   ]
  },
  {
   "cell_type": "code",
   "execution_count": 27,
   "metadata": {
    "scrolled": true
   },
   "outputs": [
    {
     "data": {
      "text/plain": [
       "array([[1.51329935e-02],\n",
       "       [9.99998033e-01],\n",
       "       [1.07885152e-01],\n",
       "       ...,\n",
       "       [1.57514442e-05],\n",
       "       [3.84658307e-01],\n",
       "       [1.55341625e-02]], dtype=float32)"
      ]
     },
     "execution_count": 27,
     "metadata": {},
     "output_type": "execute_result"
    }
   ],
   "source": [
    "#prediction on test set\n",
    "prediction_test=model_lstm_1.predict(x_test)\n",
    "prediction_test"
   ]
  },
  {
   "cell_type": "code",
   "execution_count": 28,
   "metadata": {
    "scrolled": true
   },
   "outputs": [
    {
     "name": "stdout",
     "output_type": "stream",
     "text": [
      "25000/25000 [==============================] - 89s 4ms/step\n"
     ]
    },
    {
     "data": {
      "text/plain": [
       "[0.7464985823944211, 0.8525999784469604]"
      ]
     },
     "execution_count": 28,
     "metadata": {},
     "output_type": "execute_result"
    }
   ],
   "source": [
    "#evaluate model on test set\n",
    "results=model_lstm_1.evaluate(x_test,y_test)\n",
    "results"
   ]
  },
  {
   "cell_type": "code",
   "execution_count": 32,
   "metadata": {},
   "outputs": [
    {
     "name": "stdout",
     "output_type": "stream",
     "text": [
      "Train on 20000 samples, validate on 5000 samples\n",
      "Epoch 1/10\n",
      "20000/20000 [==============================] - 105s 5ms/step - loss: 0.0156 - acc: 0.9960 - val_loss: 0.8746 - val_acc: 0.8508\n",
      "Epoch 2/10\n",
      "20000/20000 [==============================] - 130s 7ms/step - loss: 0.0108 - acc: 0.9973 - val_loss: 0.7664 - val_acc: 0.8630\n",
      "Epoch 3/10\n",
      "20000/20000 [==============================] - 135s 7ms/step - loss: 0.0048 - acc: 0.9991 - val_loss: 0.8316 - val_acc: 0.8648\n",
      "Epoch 4/10\n",
      "20000/20000 [==============================] - 136s 7ms/step - loss: 0.0038 - acc: 0.9993 - val_loss: 0.8292 - val_acc: 0.8532\n",
      "Epoch 5/10\n",
      "20000/20000 [==============================] - 115s 6ms/step - loss: 0.0055 - acc: 0.9988 - val_loss: 0.8254 - val_acc: 0.8608\n",
      "Epoch 6/10\n",
      "20000/20000 [==============================] - 117s 6ms/step - loss: 0.0045 - acc: 0.9994 - val_loss: 0.8398 - val_acc: 0.8552\n",
      "Epoch 7/10\n",
      "20000/20000 [==============================] - 119s 6ms/step - loss: 0.0104 - acc: 0.9977 - val_loss: 0.7601 - val_acc: 0.8592\n",
      "Epoch 8/10\n",
      "20000/20000 [==============================] - 109s 5ms/step - loss: 0.0139 - acc: 0.9963 - val_loss: 0.8007 - val_acc: 0.8508\n",
      "Epoch 9/10\n",
      "20000/20000 [==============================] - 95s 5ms/step - loss: 0.0198 - acc: 0.9946 - val_loss: 0.7486 - val_acc: 0.8554\n",
      "Epoch 10/10\n",
      "20000/20000 [==============================] - 95s 5ms/step - loss: 0.0076 - acc: 0.9980 - val_loss: 0.7485 - val_acc: 0.8426\n"
     ]
    }
   ],
   "source": [
    "#LSTM model fit after tuning\n",
    "history_lstm_tune=model_lstm_1.fit(x_train,y_train,\n",
    "                            batch_size=128,\n",
    "                            epochs=10,\n",
    "                            validation_split=0.2)"
   ]
  },
  {
   "cell_type": "code",
   "execution_count": 33,
   "metadata": {},
   "outputs": [
    {
     "data": {
      "text/plain": [
       "array([[3.3081853e-01],\n",
       "       [9.9999976e-01],\n",
       "       [6.4991117e-01],\n",
       "       ...,\n",
       "       [4.7106842e-06],\n",
       "       [7.2517963e-05],\n",
       "       [8.3678478e-01]], dtype=float32)"
      ]
     },
     "execution_count": 33,
     "metadata": {},
     "output_type": "execute_result"
    }
   ],
   "source": [
    "#prediction on test set\n",
    "prediction_test_tune=model_lstm_1.predict(x_test)\n",
    "prediction_test_tune"
   ]
  },
  {
   "cell_type": "code",
   "execution_count": 34,
   "metadata": {},
   "outputs": [
    {
     "name": "stdout",
     "output_type": "stream",
     "text": [
      "25000/25000 [==============================] - 68s 3ms/step\n"
     ]
    },
    {
     "data": {
      "text/plain": [
       "[0.8074933442556858, 0.8386399745941162]"
      ]
     },
     "execution_count": 34,
     "metadata": {},
     "output_type": "execute_result"
    }
   ],
   "source": [
    "#evaluate model on test set\n",
    "results=model_lstm_1.evaluate(x_test,y_test)\n",
    "results"
   ]
  }
 ],
 "metadata": {
  "kernelspec": {
   "display_name": "Python 3",
   "language": "python",
   "name": "python3"
  },
  "language_info": {
   "codemirror_mode": {
    "name": "ipython",
    "version": 3
   },
   "file_extension": ".py",
   "mimetype": "text/x-python",
   "name": "python",
   "nbconvert_exporter": "python",
   "pygments_lexer": "ipython3",
   "version": "3.7.6"
  }
 },
 "nbformat": 4,
 "nbformat_minor": 4
}
